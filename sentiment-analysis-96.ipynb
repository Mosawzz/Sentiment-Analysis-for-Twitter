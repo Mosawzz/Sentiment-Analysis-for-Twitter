{
 "cells": [
  {
   "cell_type": "code",
   "execution_count": 1,
   "id": "5976feab",
   "metadata": {
    "_cell_guid": "b1076dfc-b9ad-4769-8c92-a6c4dae69d19",
    "_uuid": "8f2839f25d086af736a60e9eeb907d3b93b6e0e5",
    "execution": {
     "iopub.execute_input": "2025-10-09T19:04:30.895448Z",
     "iopub.status.busy": "2025-10-09T19:04:30.895210Z",
     "iopub.status.idle": "2025-10-09T19:05:03.216796Z",
     "shell.execute_reply": "2025-10-09T19:05:03.216155Z"
    },
    "papermill": {
     "duration": 32.329156,
     "end_time": "2025-10-09T19:05:03.218330",
     "exception": false,
     "start_time": "2025-10-09T19:04:30.889174",
     "status": "completed"
    },
    "tags": []
   },
   "outputs": [
    {
     "name": "stderr",
     "output_type": "stream",
     "text": [
      "2025-10-09 19:04:35.698894: E external/local_xla/xla/stream_executor/cuda/cuda_fft.cc:477] Unable to register cuFFT factory: Attempting to register factory for plugin cuFFT when one has already been registered\n",
      "WARNING: All log messages before absl::InitializeLog() is called are written to STDERR\n",
      "E0000 00:00:1760036675.903577      19 cuda_dnn.cc:8310] Unable to register cuDNN factory: Attempting to register factory for plugin cuDNN when one has already been registered\n",
      "E0000 00:00:1760036675.962160      19 cuda_blas.cc:1418] Unable to register cuBLAS factory: Attempting to register factory for plugin cuBLAS when one has already been registered\n"
     ]
    }
   ],
   "source": [
    "import numpy as np \n",
    "import pandas as pd\n",
    "import matplotlib.pyplot as plt\n",
    "import seaborn as sns\n",
    "\n",
    "import pickle\n",
    "import re\n",
    "import emoji\n",
    "\n",
    "from sklearn.model_selection import train_test_split\n",
    "from sklearn.feature_extraction.text import TfidfVectorizer\n",
    "from sklearn.preprocessing import LabelEncoder\n",
    "from sklearn.metrics import accuracy_score, precision_recall_fscore_support\n",
    "from sklearn.metrics import classification_report\n",
    "from sklearn.metrics import confusion_matrix\n",
    "\n",
    "from tensorflow.keras.preprocessing.sequence import pad_sequences\n",
    "from tensorflow.keras.models import Sequential\n",
    "from tensorflow.keras.layers import Embedding, LSTM, Dense, Dropout\n",
    "from tensorflow.keras.utils import to_categorical\n",
    "from tensorflow.keras.callbacks import EarlyStopping, ModelCheckpoint, ReduceLROnPlateau\n",
    "from tensorflow.keras.models import load_model\n",
    "\n",
    "import torch\n",
    "from torch.utils.data import DataLoader, Dataset\n",
    "\n",
    "from transformers import TrainingArguments, Trainer, AutoTokenizer, AutoModelForSequenceClassification\n",
    "import nltk\n",
    "import re\n",
    "from nltk.corpus import stopwords\n",
    "from nltk.stem import WordNetLemmatizer\n",
    "\n",
    "from tensorflow.keras.preprocessing.text import Tokenizer\n",
    "from tensorflow.keras.preprocessing.sequence import pad_sequences"
   ]
  },
  {
   "cell_type": "code",
   "execution_count": 2,
   "id": "5a478b7e",
   "metadata": {
    "execution": {
     "iopub.execute_input": "2025-10-09T19:05:03.228916Z",
     "iopub.status.busy": "2025-10-09T19:05:03.228285Z",
     "iopub.status.idle": "2025-10-09T19:05:03.636494Z",
     "shell.execute_reply": "2025-10-09T19:05:03.635941Z"
    },
    "papermill": {
     "duration": 0.414655,
     "end_time": "2025-10-09T19:05:03.638037",
     "exception": false,
     "start_time": "2025-10-09T19:05:03.223382",
     "status": "completed"
    },
    "tags": []
   },
   "outputs": [],
   "source": [
    "df=pd.read_csv('/kaggle/input/twitter-entity-sentiment-analysis/twitter_training.csv')\n",
    "df_valid=pd.read_csv(\"/kaggle/input/twitter-entity-sentiment-analysis/twitter_validation.csv\")"
   ]
  },
  {
   "cell_type": "code",
   "execution_count": 3,
   "id": "e1c77afd",
   "metadata": {
    "execution": {
     "iopub.execute_input": "2025-10-09T19:05:03.648485Z",
     "iopub.status.busy": "2025-10-09T19:05:03.648260Z",
     "iopub.status.idle": "2025-10-09T19:05:03.683669Z",
     "shell.execute_reply": "2025-10-09T19:05:03.682884Z"
    },
    "papermill": {
     "duration": 0.04202,
     "end_time": "2025-10-09T19:05:03.684897",
     "exception": false,
     "start_time": "2025-10-09T19:05:03.642877",
     "status": "completed"
    },
    "tags": []
   },
   "outputs": [
    {
     "name": "stdout",
     "output_type": "stream",
     "text": [
      "<class 'pandas.core.frame.DataFrame'>\n",
      "RangeIndex: 74681 entries, 0 to 74680\n",
      "Data columns (total 4 columns):\n",
      " #   Column                                                 Non-Null Count  Dtype \n",
      "---  ------                                                 --------------  ----- \n",
      " 0   2401                                                   74681 non-null  int64 \n",
      " 1   Borderlands                                            74681 non-null  object\n",
      " 2   Positive                                               74681 non-null  object\n",
      " 3   im getting on borderlands and i will murder you all ,  73995 non-null  object\n",
      "dtypes: int64(1), object(3)\n",
      "memory usage: 2.3+ MB\n"
     ]
    }
   ],
   "source": [
    "df.info()"
   ]
  },
  {
   "cell_type": "code",
   "execution_count": 4,
   "id": "5216c91c",
   "metadata": {
    "execution": {
     "iopub.execute_input": "2025-10-09T19:05:03.694659Z",
     "iopub.status.busy": "2025-10-09T19:05:03.694449Z",
     "iopub.status.idle": "2025-10-09T19:05:03.710457Z",
     "shell.execute_reply": "2025-10-09T19:05:03.709901Z"
    },
    "papermill": {
     "duration": 0.02216,
     "end_time": "2025-10-09T19:05:03.711592",
     "exception": false,
     "start_time": "2025-10-09T19:05:03.689432",
     "status": "completed"
    },
    "tags": []
   },
   "outputs": [
    {
     "data": {
      "text/html": [
       "<div>\n",
       "<style scoped>\n",
       "    .dataframe tbody tr th:only-of-type {\n",
       "        vertical-align: middle;\n",
       "    }\n",
       "\n",
       "    .dataframe tbody tr th {\n",
       "        vertical-align: top;\n",
       "    }\n",
       "\n",
       "    .dataframe thead th {\n",
       "        text-align: right;\n",
       "    }\n",
       "</style>\n",
       "<table border=\"1\" class=\"dataframe\">\n",
       "  <thead>\n",
       "    <tr style=\"text-align: right;\">\n",
       "      <th></th>\n",
       "      <th>2401</th>\n",
       "      <th>Borderlands</th>\n",
       "      <th>Positive</th>\n",
       "      <th>im getting on borderlands and i will murder you all ,</th>\n",
       "    </tr>\n",
       "  </thead>\n",
       "  <tbody>\n",
       "    <tr>\n",
       "      <th>0</th>\n",
       "      <td>2401</td>\n",
       "      <td>Borderlands</td>\n",
       "      <td>Positive</td>\n",
       "      <td>I am coming to the borders and I will kill you...</td>\n",
       "    </tr>\n",
       "    <tr>\n",
       "      <th>1</th>\n",
       "      <td>2401</td>\n",
       "      <td>Borderlands</td>\n",
       "      <td>Positive</td>\n",
       "      <td>im getting on borderlands and i will kill you ...</td>\n",
       "    </tr>\n",
       "    <tr>\n",
       "      <th>2</th>\n",
       "      <td>2401</td>\n",
       "      <td>Borderlands</td>\n",
       "      <td>Positive</td>\n",
       "      <td>im coming on borderlands and i will murder you...</td>\n",
       "    </tr>\n",
       "    <tr>\n",
       "      <th>3</th>\n",
       "      <td>2401</td>\n",
       "      <td>Borderlands</td>\n",
       "      <td>Positive</td>\n",
       "      <td>im getting on borderlands 2 and i will murder ...</td>\n",
       "    </tr>\n",
       "    <tr>\n",
       "      <th>4</th>\n",
       "      <td>2401</td>\n",
       "      <td>Borderlands</td>\n",
       "      <td>Positive</td>\n",
       "      <td>im getting into borderlands and i can murder y...</td>\n",
       "    </tr>\n",
       "  </tbody>\n",
       "</table>\n",
       "</div>"
      ],
      "text/plain": [
       "   2401  Borderlands  Positive  \\\n",
       "0  2401  Borderlands  Positive   \n",
       "1  2401  Borderlands  Positive   \n",
       "2  2401  Borderlands  Positive   \n",
       "3  2401  Borderlands  Positive   \n",
       "4  2401  Borderlands  Positive   \n",
       "\n",
       "  im getting on borderlands and i will murder you all ,  \n",
       "0  I am coming to the borders and I will kill you...     \n",
       "1  im getting on borderlands and i will kill you ...     \n",
       "2  im coming on borderlands and i will murder you...     \n",
       "3  im getting on borderlands 2 and i will murder ...     \n",
       "4  im getting into borderlands and i can murder y...     "
      ]
     },
     "execution_count": 4,
     "metadata": {},
     "output_type": "execute_result"
    }
   ],
   "source": [
    "df.head()"
   ]
  },
  {
   "cell_type": "code",
   "execution_count": 5,
   "id": "8d918808",
   "metadata": {
    "execution": {
     "iopub.execute_input": "2025-10-09T19:05:03.721184Z",
     "iopub.status.busy": "2025-10-09T19:05:03.720998Z",
     "iopub.status.idle": "2025-10-09T19:05:03.728031Z",
     "shell.execute_reply": "2025-10-09T19:05:03.727282Z"
    },
    "papermill": {
     "duration": 0.013106,
     "end_time": "2025-10-09T19:05:03.729165",
     "exception": false,
     "start_time": "2025-10-09T19:05:03.716059",
     "status": "completed"
    },
    "tags": []
   },
   "outputs": [
    {
     "data": {
      "text/html": [
       "<div>\n",
       "<style scoped>\n",
       "    .dataframe tbody tr th:only-of-type {\n",
       "        vertical-align: middle;\n",
       "    }\n",
       "\n",
       "    .dataframe tbody tr th {\n",
       "        vertical-align: top;\n",
       "    }\n",
       "\n",
       "    .dataframe thead th {\n",
       "        text-align: right;\n",
       "    }\n",
       "</style>\n",
       "<table border=\"1\" class=\"dataframe\">\n",
       "  <thead>\n",
       "    <tr style=\"text-align: right;\">\n",
       "      <th></th>\n",
       "      <th>3364</th>\n",
       "      <th>Facebook</th>\n",
       "      <th>Irrelevant</th>\n",
       "      <th>I mentioned on Facebook that I was struggling for motivation to go for a run the other day, which has been translated by Tom’s great auntie as ‘Hayley can’t get out of bed’ and told to his grandma, who now thinks I’m a lazy, terrible person 🤣</th>\n",
       "    </tr>\n",
       "  </thead>\n",
       "  <tbody>\n",
       "    <tr>\n",
       "      <th>0</th>\n",
       "      <td>352</td>\n",
       "      <td>Amazon</td>\n",
       "      <td>Neutral</td>\n",
       "      <td>BBC News - Amazon boss Jeff Bezos rejects clai...</td>\n",
       "    </tr>\n",
       "    <tr>\n",
       "      <th>1</th>\n",
       "      <td>8312</td>\n",
       "      <td>Microsoft</td>\n",
       "      <td>Negative</td>\n",
       "      <td>@Microsoft Why do I pay for WORD when it funct...</td>\n",
       "    </tr>\n",
       "    <tr>\n",
       "      <th>2</th>\n",
       "      <td>4371</td>\n",
       "      <td>CS-GO</td>\n",
       "      <td>Negative</td>\n",
       "      <td>CSGO matchmaking is so full of closet hacking,...</td>\n",
       "    </tr>\n",
       "    <tr>\n",
       "      <th>3</th>\n",
       "      <td>4433</td>\n",
       "      <td>Google</td>\n",
       "      <td>Neutral</td>\n",
       "      <td>Now the President is slapping Americans in the...</td>\n",
       "    </tr>\n",
       "    <tr>\n",
       "      <th>4</th>\n",
       "      <td>6273</td>\n",
       "      <td>FIFA</td>\n",
       "      <td>Negative</td>\n",
       "      <td>Hi @EAHelp I’ve had Madeleine McCann in my cel...</td>\n",
       "    </tr>\n",
       "  </tbody>\n",
       "</table>\n",
       "</div>"
      ],
      "text/plain": [
       "   3364   Facebook Irrelevant  \\\n",
       "0   352     Amazon    Neutral   \n",
       "1  8312  Microsoft   Negative   \n",
       "2  4371      CS-GO   Negative   \n",
       "3  4433     Google    Neutral   \n",
       "4  6273       FIFA   Negative   \n",
       "\n",
       "  I mentioned on Facebook that I was struggling for motivation to go for a run the other day, which has been translated by Tom’s great auntie as ‘Hayley can’t get out of bed’ and told to his grandma, who now thinks I’m a lazy, terrible person 🤣  \n",
       "0  BBC News - Amazon boss Jeff Bezos rejects clai...                                                                                                                                                                                                  \n",
       "1  @Microsoft Why do I pay for WORD when it funct...                                                                                                                                                                                                  \n",
       "2  CSGO matchmaking is so full of closet hacking,...                                                                                                                                                                                                  \n",
       "3  Now the President is slapping Americans in the...                                                                                                                                                                                                  \n",
       "4  Hi @EAHelp I’ve had Madeleine McCann in my cel...                                                                                                                                                                                                  "
      ]
     },
     "execution_count": 5,
     "metadata": {},
     "output_type": "execute_result"
    }
   ],
   "source": [
    "df_valid.head()"
   ]
  },
  {
   "cell_type": "code",
   "execution_count": 6,
   "id": "4b9433f5",
   "metadata": {
    "execution": {
     "iopub.execute_input": "2025-10-09T19:05:03.739592Z",
     "iopub.status.busy": "2025-10-09T19:05:03.739419Z",
     "iopub.status.idle": "2025-10-09T19:05:03.746084Z",
     "shell.execute_reply": "2025-10-09T19:05:03.745535Z"
    },
    "papermill": {
     "duration": 0.013081,
     "end_time": "2025-10-09T19:05:03.747277",
     "exception": false,
     "start_time": "2025-10-09T19:05:03.734196",
     "status": "completed"
    },
    "tags": []
   },
   "outputs": [],
   "source": [
    "df = df.drop(['2401'], axis=1)\n",
    "df_valid = df_valid.drop(['3364'], axis=1)"
   ]
  },
  {
   "cell_type": "code",
   "execution_count": 7,
   "id": "0264b71a",
   "metadata": {
    "execution": {
     "iopub.execute_input": "2025-10-09T19:05:03.759475Z",
     "iopub.status.busy": "2025-10-09T19:05:03.759073Z",
     "iopub.status.idle": "2025-10-09T19:05:03.766709Z",
     "shell.execute_reply": "2025-10-09T19:05:03.766189Z"
    },
    "papermill": {
     "duration": 0.014373,
     "end_time": "2025-10-09T19:05:03.767843",
     "exception": false,
     "start_time": "2025-10-09T19:05:03.753470",
     "status": "completed"
    },
    "tags": []
   },
   "outputs": [
    {
     "data": {
      "text/plain": [
       "array(['Borderlands', 'CallOfDutyBlackopsColdWar', 'Amazon', 'Overwatch',\n",
       "       'Xbox(Xseries)', 'NBA2K', 'Dota2', 'PlayStation5(PS5)',\n",
       "       'WorldOfCraft', 'CS-GO', 'Google', 'AssassinsCreed', 'ApexLegends',\n",
       "       'LeagueOfLegends', 'Fortnite', 'Microsoft', 'Hearthstone',\n",
       "       'Battlefield', 'PlayerUnknownsBattlegrounds(PUBG)', 'Verizon',\n",
       "       'HomeDepot', 'FIFA', 'RedDeadRedemption(RDR)', 'CallOfDuty',\n",
       "       'TomClancysRainbowSix', 'Facebook', 'GrandTheftAuto(GTA)',\n",
       "       'MaddenNFL', 'johnson&johnson', 'Cyberpunk2077',\n",
       "       'TomClancysGhostRecon', 'Nvidia'], dtype=object)"
      ]
     },
     "execution_count": 7,
     "metadata": {},
     "output_type": "execute_result"
    }
   ],
   "source": [
    "df[\"Borderlands\"].unique()"
   ]
  },
  {
   "cell_type": "code",
   "execution_count": 8,
   "id": "92dae0ca",
   "metadata": {
    "execution": {
     "iopub.execute_input": "2025-10-09T19:05:03.778559Z",
     "iopub.status.busy": "2025-10-09T19:05:03.778043Z",
     "iopub.status.idle": "2025-10-09T19:05:03.786861Z",
     "shell.execute_reply": "2025-10-09T19:05:03.786284Z"
    },
    "papermill": {
     "duration": 0.015676,
     "end_time": "2025-10-09T19:05:03.788197",
     "exception": false,
     "start_time": "2025-10-09T19:05:03.772521",
     "status": "completed"
    },
    "tags": []
   },
   "outputs": [
    {
     "data": {
      "text/plain": [
       "Borderlands\n",
       "Microsoft                            2400\n",
       "MaddenNFL                            2400\n",
       "TomClancysRainbowSix                 2400\n",
       "LeagueOfLegends                      2394\n",
       "CallOfDuty                           2394\n",
       "Verizon                              2382\n",
       "CallOfDutyBlackopsColdWar            2376\n",
       "ApexLegends                          2376\n",
       "Facebook                             2370\n",
       "WorldOfCraft                         2364\n",
       "Dota2                                2364\n",
       "NBA2K                                2352\n",
       "TomClancysGhostRecon                 2346\n",
       "Battlefield                          2346\n",
       "FIFA                                 2340\n",
       "Overwatch                            2334\n",
       "Xbox(Xseries)                        2334\n",
       "johnson&johnson                      2328\n",
       "Amazon                               2316\n",
       "HomeDepot                            2310\n",
       "PlayStation5(PS5)                    2310\n",
       "CS-GO                                2304\n",
       "Cyberpunk2077                        2304\n",
       "GrandTheftAuto(GTA)                  2304\n",
       "Hearthstone                          2298\n",
       "Nvidia                               2298\n",
       "Google                               2298\n",
       "Borderlands                          2285\n",
       "PlayerUnknownsBattlegrounds(PUBG)    2274\n",
       "Fortnite                             2274\n",
       "RedDeadRedemption(RDR)               2262\n",
       "AssassinsCreed                       2244\n",
       "Name: count, dtype: int64"
      ]
     },
     "execution_count": 8,
     "metadata": {},
     "output_type": "execute_result"
    }
   ],
   "source": [
    "df[\"Borderlands\"].value_counts()"
   ]
  },
  {
   "cell_type": "code",
   "execution_count": 9,
   "id": "268861e3",
   "metadata": {
    "execution": {
     "iopub.execute_input": "2025-10-09T19:05:03.799024Z",
     "iopub.status.busy": "2025-10-09T19:05:03.798846Z",
     "iopub.status.idle": "2025-10-09T19:05:03.802171Z",
     "shell.execute_reply": "2025-10-09T19:05:03.801625Z"
    },
    "papermill": {
     "duration": 0.00958,
     "end_time": "2025-10-09T19:05:03.803225",
     "exception": false,
     "start_time": "2025-10-09T19:05:03.793645",
     "status": "completed"
    },
    "tags": []
   },
   "outputs": [],
   "source": [
    "df.columns = [ 'entity', 'sentiment', 'content']\n",
    "df_valid.columns = [ 'entity', 'sentiment', 'content']"
   ]
  },
  {
   "cell_type": "code",
   "execution_count": 10,
   "id": "7be38c09",
   "metadata": {
    "execution": {
     "iopub.execute_input": "2025-10-09T19:05:03.813664Z",
     "iopub.status.busy": "2025-10-09T19:05:03.813193Z",
     "iopub.status.idle": "2025-10-09T19:05:03.822703Z",
     "shell.execute_reply": "2025-10-09T19:05:03.821906Z"
    },
    "papermill": {
     "duration": 0.015891,
     "end_time": "2025-10-09T19:05:03.823876",
     "exception": false,
     "start_time": "2025-10-09T19:05:03.807985",
     "status": "completed"
    },
    "tags": []
   },
   "outputs": [
    {
     "name": "stdout",
     "output_type": "stream",
     "text": [
      "sentiment\n",
      "Negative      22542\n",
      "Positive      20831\n",
      "Neutral       18318\n",
      "Irrelevant    12990\n",
      "Name: count, dtype: int64\n",
      "sentiment\n",
      "Neutral       285\n",
      "Positive      277\n",
      "Negative      266\n",
      "Irrelevant    171\n",
      "Name: count, dtype: int64\n"
     ]
    }
   ],
   "source": [
    "print(df['sentiment'].value_counts())\n",
    "print(df_valid['sentiment'].value_counts())"
   ]
  },
  {
   "cell_type": "code",
   "execution_count": 11,
   "id": "aa3a2c14",
   "metadata": {
    "execution": {
     "iopub.execute_input": "2025-10-09T19:05:03.835075Z",
     "iopub.status.busy": "2025-10-09T19:05:03.834430Z",
     "iopub.status.idle": "2025-10-09T19:05:03.841183Z",
     "shell.execute_reply": "2025-10-09T19:05:03.840502Z"
    },
    "papermill": {
     "duration": 0.013258,
     "end_time": "2025-10-09T19:05:03.842263",
     "exception": false,
     "start_time": "2025-10-09T19:05:03.829005",
     "status": "completed"
    },
    "tags": []
   },
   "outputs": [
    {
     "data": {
      "text/html": [
       "<div>\n",
       "<style scoped>\n",
       "    .dataframe tbody tr th:only-of-type {\n",
       "        vertical-align: middle;\n",
       "    }\n",
       "\n",
       "    .dataframe tbody tr th {\n",
       "        vertical-align: top;\n",
       "    }\n",
       "\n",
       "    .dataframe thead th {\n",
       "        text-align: right;\n",
       "    }\n",
       "</style>\n",
       "<table border=\"1\" class=\"dataframe\">\n",
       "  <thead>\n",
       "    <tr style=\"text-align: right;\">\n",
       "      <th></th>\n",
       "      <th>entity</th>\n",
       "      <th>sentiment</th>\n",
       "      <th>content</th>\n",
       "    </tr>\n",
       "  </thead>\n",
       "  <tbody>\n",
       "    <tr>\n",
       "      <th>0</th>\n",
       "      <td>Borderlands</td>\n",
       "      <td>Positive</td>\n",
       "      <td>I am coming to the borders and I will kill you...</td>\n",
       "    </tr>\n",
       "    <tr>\n",
       "      <th>1</th>\n",
       "      <td>Borderlands</td>\n",
       "      <td>Positive</td>\n",
       "      <td>im getting on borderlands and i will kill you ...</td>\n",
       "    </tr>\n",
       "    <tr>\n",
       "      <th>2</th>\n",
       "      <td>Borderlands</td>\n",
       "      <td>Positive</td>\n",
       "      <td>im coming on borderlands and i will murder you...</td>\n",
       "    </tr>\n",
       "    <tr>\n",
       "      <th>3</th>\n",
       "      <td>Borderlands</td>\n",
       "      <td>Positive</td>\n",
       "      <td>im getting on borderlands 2 and i will murder ...</td>\n",
       "    </tr>\n",
       "    <tr>\n",
       "      <th>4</th>\n",
       "      <td>Borderlands</td>\n",
       "      <td>Positive</td>\n",
       "      <td>im getting into borderlands and i can murder y...</td>\n",
       "    </tr>\n",
       "  </tbody>\n",
       "</table>\n",
       "</div>"
      ],
      "text/plain": [
       "        entity sentiment                                            content\n",
       "0  Borderlands  Positive  I am coming to the borders and I will kill you...\n",
       "1  Borderlands  Positive  im getting on borderlands and i will kill you ...\n",
       "2  Borderlands  Positive  im coming on borderlands and i will murder you...\n",
       "3  Borderlands  Positive  im getting on borderlands 2 and i will murder ...\n",
       "4  Borderlands  Positive  im getting into borderlands and i can murder y..."
      ]
     },
     "execution_count": 11,
     "metadata": {},
     "output_type": "execute_result"
    }
   ],
   "source": [
    "df.head()"
   ]
  },
  {
   "cell_type": "code",
   "execution_count": 12,
   "id": "35879d36",
   "metadata": {
    "execution": {
     "iopub.execute_input": "2025-10-09T19:05:03.852994Z",
     "iopub.status.busy": "2025-10-09T19:05:03.852777Z",
     "iopub.status.idle": "2025-10-09T19:05:03.870228Z",
     "shell.execute_reply": "2025-10-09T19:05:03.869480Z"
    },
    "papermill": {
     "duration": 0.024209,
     "end_time": "2025-10-09T19:05:03.871414",
     "exception": false,
     "start_time": "2025-10-09T19:05:03.847205",
     "status": "completed"
    },
    "tags": []
   },
   "outputs": [
    {
     "data": {
      "text/plain": [
       "entity         0\n",
       "sentiment      0\n",
       "content      686\n",
       "dtype: int64"
      ]
     },
     "execution_count": 12,
     "metadata": {},
     "output_type": "execute_result"
    }
   ],
   "source": [
    "df.isna().sum()"
   ]
  },
  {
   "cell_type": "code",
   "execution_count": 13,
   "id": "5ebb9a4e",
   "metadata": {
    "execution": {
     "iopub.execute_input": "2025-10-09T19:05:03.882211Z",
     "iopub.status.busy": "2025-10-09T19:05:03.882004Z",
     "iopub.status.idle": "2025-10-09T19:05:03.899230Z",
     "shell.execute_reply": "2025-10-09T19:05:03.898466Z"
    },
    "papermill": {
     "duration": 0.024034,
     "end_time": "2025-10-09T19:05:03.900524",
     "exception": false,
     "start_time": "2025-10-09T19:05:03.876490",
     "status": "completed"
    },
    "tags": []
   },
   "outputs": [],
   "source": [
    "df=df.dropna()"
   ]
  },
  {
   "cell_type": "code",
   "execution_count": 14,
   "id": "cbab27f2",
   "metadata": {
    "execution": {
     "iopub.execute_input": "2025-10-09T19:05:03.911831Z",
     "iopub.status.busy": "2025-10-09T19:05:03.911574Z",
     "iopub.status.idle": "2025-10-09T19:05:03.958189Z",
     "shell.execute_reply": "2025-10-09T19:05:03.957327Z"
    },
    "papermill": {
     "duration": 0.053397,
     "end_time": "2025-10-09T19:05:03.959494",
     "exception": false,
     "start_time": "2025-10-09T19:05:03.906097",
     "status": "completed"
    },
    "tags": []
   },
   "outputs": [],
   "source": [
    "df = df.drop_duplicates().reset_index(drop=True)\n",
    "df_valid = df_valid.drop_duplicates().reset_index(drop=True)"
   ]
  },
  {
   "cell_type": "code",
   "execution_count": 15,
   "id": "23a7378e",
   "metadata": {
    "execution": {
     "iopub.execute_input": "2025-10-09T19:05:03.970460Z",
     "iopub.status.busy": "2025-10-09T19:05:03.970264Z",
     "iopub.status.idle": "2025-10-09T19:05:04.056825Z",
     "shell.execute_reply": "2025-10-09T19:05:04.056124Z"
    },
    "papermill": {
     "duration": 0.093121,
     "end_time": "2025-10-09T19:05:04.057954",
     "exception": false,
     "start_time": "2025-10-09T19:05:03.964833",
     "status": "completed"
    },
    "tags": []
   },
   "outputs": [
    {
     "name": "stderr",
     "output_type": "stream",
     "text": [
      "[nltk_data] Downloading package stopwords to /usr/share/nltk_data...\n",
      "[nltk_data]   Package stopwords is already up-to-date!\n"
     ]
    }
   ],
   "source": [
    "nltk.download('stopwords')\n",
    "stop_words = set(stopwords.words('english'))"
   ]
  },
  {
   "cell_type": "code",
   "execution_count": 16,
   "id": "73ec2b38",
   "metadata": {
    "execution": {
     "iopub.execute_input": "2025-10-09T19:05:04.069370Z",
     "iopub.status.busy": "2025-10-09T19:05:04.068754Z",
     "iopub.status.idle": "2025-10-09T19:05:04.073308Z",
     "shell.execute_reply": "2025-10-09T19:05:04.072608Z"
    },
    "papermill": {
     "duration": 0.011268,
     "end_time": "2025-10-09T19:05:04.074309",
     "exception": false,
     "start_time": "2025-10-09T19:05:04.063041",
     "status": "completed"
    },
    "tags": []
   },
   "outputs": [],
   "source": [
    "lemmatizer = WordNetLemmatizer()\n",
    "def clean_text(text):\n",
    "    text = text.lower()\n",
    "    text = re.sub(r'http\\S+|www\\S+|https\\S+', '', text)  # Remove URLs\n",
    "    text = re.sub(r'@\\w+', '', text)  # Remove mentions\n",
    "    text = emoji.demojize(text)  # Convert emojis to text (e.g., :) -> :smiling_face:)\n",
    "    text = re.sub(r'[^a-z\\s]', '', text)  # Remove non-alpha/space\n",
    "    words = text.split()\n",
    "    words = [lemmatizer.lemmatize(word) for word in words if word not in stop_words]\n",
    "    return \" \".join(words)"
   ]
  },
  {
   "cell_type": "code",
   "execution_count": 17,
   "id": "799d1f3c",
   "metadata": {
    "execution": {
     "iopub.execute_input": "2025-10-09T19:05:04.085139Z",
     "iopub.status.busy": "2025-10-09T19:05:04.084938Z",
     "iopub.status.idle": "2025-10-09T19:05:15.012710Z",
     "shell.execute_reply": "2025-10-09T19:05:15.012154Z"
    },
    "papermill": {
     "duration": 10.934502,
     "end_time": "2025-10-09T19:05:15.014043",
     "exception": false,
     "start_time": "2025-10-09T19:05:04.079541",
     "status": "completed"
    },
    "tags": []
   },
   "outputs": [],
   "source": [
    "df['content'] = df['content'].apply(clean_text)\n",
    "df_valid['content'] = df_valid['content'].apply(clean_text)"
   ]
  },
  {
   "cell_type": "code",
   "execution_count": 18,
   "id": "6b644474",
   "metadata": {
    "execution": {
     "iopub.execute_input": "2025-10-09T19:05:15.025467Z",
     "iopub.status.busy": "2025-10-09T19:05:15.025247Z",
     "iopub.status.idle": "2025-10-09T19:05:15.040411Z",
     "shell.execute_reply": "2025-10-09T19:05:15.039879Z"
    },
    "papermill": {
     "duration": 0.021828,
     "end_time": "2025-10-09T19:05:15.041450",
     "exception": false,
     "start_time": "2025-10-09T19:05:15.019622",
     "status": "completed"
    },
    "tags": []
   },
   "outputs": [],
   "source": [
    "label_encoder = LabelEncoder()\n",
    "df['sentiment'] = label_encoder.fit_transform(df['sentiment'])\n",
    "df_valid['sentiment'] = label_encoder.fit_transform(df_valid['sentiment'])"
   ]
  },
  {
   "cell_type": "code",
   "execution_count": 19,
   "id": "a4b9855d",
   "metadata": {
    "execution": {
     "iopub.execute_input": "2025-10-09T19:05:15.052408Z",
     "iopub.status.busy": "2025-10-09T19:05:15.052230Z",
     "iopub.status.idle": "2025-10-09T19:05:17.806376Z",
     "shell.execute_reply": "2025-10-09T19:05:17.805779Z"
    },
    "papermill": {
     "duration": 2.761232,
     "end_time": "2025-10-09T19:05:17.807700",
     "exception": false,
     "start_time": "2025-10-09T19:05:15.046468",
     "status": "completed"
    },
    "tags": []
   },
   "outputs": [],
   "source": [
    "tfidf = TfidfVectorizer(max_features=5000)\n",
    "x_train_tfidf = tfidf.fit_transform(df['content']).toarray()\n",
    "x_valid_tfidf = tfidf.transform(df_valid['content']).toarray()\n",
    "\n",
    "y_train = df['sentiment'].values\n",
    "y_valid=df_valid['sentiment'].values"
   ]
  },
  {
   "cell_type": "code",
   "execution_count": 20,
   "id": "5b3b88d3",
   "metadata": {
    "execution": {
     "iopub.execute_input": "2025-10-09T19:05:17.819413Z",
     "iopub.status.busy": "2025-10-09T19:05:17.819198Z",
     "iopub.status.idle": "2025-10-09T19:05:17.822900Z",
     "shell.execute_reply": "2025-10-09T19:05:17.822168Z"
    },
    "papermill": {
     "duration": 0.010639,
     "end_time": "2025-10-09T19:05:17.824090",
     "exception": false,
     "start_time": "2025-10-09T19:05:17.813451",
     "status": "completed"
    },
    "tags": []
   },
   "outputs": [],
   "source": [
    "x_train_lstm = np.expand_dims(x_train_tfidf, axis=1)\n",
    "x_valid_lstm = np.expand_dims(x_valid_tfidf, axis=1)"
   ]
  },
  {
   "cell_type": "code",
   "execution_count": 21,
   "id": "49a2e737",
   "metadata": {
    "execution": {
     "iopub.execute_input": "2025-10-09T19:05:17.835477Z",
     "iopub.status.busy": "2025-10-09T19:05:17.835266Z",
     "iopub.status.idle": "2025-10-09T19:05:19.460715Z",
     "shell.execute_reply": "2025-10-09T19:05:19.460051Z"
    },
    "papermill": {
     "duration": 1.632657,
     "end_time": "2025-10-09T19:05:19.462056",
     "exception": false,
     "start_time": "2025-10-09T19:05:17.829399",
     "status": "completed"
    },
    "tags": []
   },
   "outputs": [
    {
     "name": "stderr",
     "output_type": "stream",
     "text": [
      "I0000 00:00:1760036718.131187      19 gpu_device.cc:2022] Created device /job:localhost/replica:0/task:0/device:GPU:0 with 13942 MB memory:  -> device: 0, name: Tesla T4, pci bus id: 0000:00:04.0, compute capability: 7.5\n",
      "I0000 00:00:1760036718.131937      19 gpu_device.cc:2022] Created device /job:localhost/replica:0/task:0/device:GPU:1 with 13942 MB memory:  -> device: 1, name: Tesla T4, pci bus id: 0000:00:05.0, compute capability: 7.5\n",
      "/usr/local/lib/python3.11/dist-packages/keras/src/layers/rnn/rnn.py:200: UserWarning: Do not pass an `input_shape`/`input_dim` argument to a layer. When using Sequential models, prefer using an `Input(shape)` object as the first layer in the model instead.\n",
      "  super().__init__(**kwargs)\n"
     ]
    }
   ],
   "source": [
    "num_classes = len(label_encoder.classes_)\n",
    "\n",
    "lstm_model = Sequential()\n",
    "lstm_model.add(LSTM(128, input_shape=(x_train_lstm.shape[1], x_train_lstm.shape[2])))\n",
    "lstm_model.add(Dropout(0.7))\n",
    "lstm_model.add(Dense(num_classes, activation='softmax'))"
   ]
  },
  {
   "cell_type": "code",
   "execution_count": 22,
   "id": "cf122542",
   "metadata": {
    "execution": {
     "iopub.execute_input": "2025-10-09T19:05:19.473818Z",
     "iopub.status.busy": "2025-10-09T19:05:19.473587Z",
     "iopub.status.idle": "2025-10-09T19:05:19.484391Z",
     "shell.execute_reply": "2025-10-09T19:05:19.483898Z"
    },
    "papermill": {
     "duration": 0.017901,
     "end_time": "2025-10-09T19:05:19.485432",
     "exception": false,
     "start_time": "2025-10-09T19:05:19.467531",
     "status": "completed"
    },
    "tags": []
   },
   "outputs": [],
   "source": [
    "lstm_model.compile(loss='sparse_categorical_crossentropy',\n",
    "              optimizer='adam',\n",
    "              metrics=['accuracy'])"
   ]
  },
  {
   "cell_type": "code",
   "execution_count": 23,
   "id": "089c8b15",
   "metadata": {
    "execution": {
     "iopub.execute_input": "2025-10-09T19:05:19.496444Z",
     "iopub.status.busy": "2025-10-09T19:05:19.496222Z",
     "iopub.status.idle": "2025-10-09T19:05:19.500219Z",
     "shell.execute_reply": "2025-10-09T19:05:19.499554Z"
    },
    "papermill": {
     "duration": 0.010705,
     "end_time": "2025-10-09T19:05:19.501227",
     "exception": false,
     "start_time": "2025-10-09T19:05:19.490522",
     "status": "completed"
    },
    "tags": []
   },
   "outputs": [],
   "source": [
    "early_stop = EarlyStopping(\n",
    "    monitor='val_loss', \n",
    "    patience=20, \n",
    "    restore_best_weights=True\n",
    ")\n",
    "\n",
    "model_checkpoint = ModelCheckpoint(\n",
    "    'best_lstm_model.h5',\n",
    "    monitor='val_loss',\n",
    "    save_best_only=True\n",
    ")\n",
    "\n",
    "reduce_lr = ReduceLROnPlateau(\n",
    "    monitor='val_loss', \n",
    "    factor=0.5, \n",
    "    patience=2, \n",
    "    min_lr=1e-5\n",
    ")"
   ]
  },
  {
   "cell_type": "code",
   "execution_count": 24,
   "id": "5664c98f",
   "metadata": {
    "execution": {
     "iopub.execute_input": "2025-10-09T19:05:19.512080Z",
     "iopub.status.busy": "2025-10-09T19:05:19.511860Z",
     "iopub.status.idle": "2025-10-09T19:15:41.387672Z",
     "shell.execute_reply": "2025-10-09T19:15:41.387096Z"
    },
    "papermill": {
     "duration": 621.882722,
     "end_time": "2025-10-09T19:15:41.389011",
     "exception": false,
     "start_time": "2025-10-09T19:05:19.506289",
     "status": "completed"
    },
    "tags": []
   },
   "outputs": [
    {
     "name": "stdout",
     "output_type": "stream",
     "text": [
      "Epoch 1/100\n"
     ]
    },
    {
     "name": "stderr",
     "output_type": "stream",
     "text": [
      "I0000 00:00:1760036726.821914      61 cuda_dnn.cc:529] Loaded cuDNN version 90300\n"
     ]
    },
    {
     "name": "stdout",
     "output_type": "stream",
     "text": [
      "\u001b[1m1109/1109\u001b[0m \u001b[32m━━━━━━━━━━━━━━━━━━━━\u001b[0m\u001b[37m\u001b[0m \u001b[1m11s\u001b[0m 6ms/step - accuracy: 0.4776 - loss: 1.2120 - val_accuracy: 0.7447 - val_loss: 0.7040\n",
      "Epoch 2/100\n",
      "\u001b[1m1109/1109\u001b[0m \u001b[32m━━━━━━━━━━━━━━━━━━━━\u001b[0m\u001b[37m\u001b[0m \u001b[1m7s\u001b[0m 6ms/step - accuracy: 0.6836 - loss: 0.8121 - val_accuracy: 0.7968 - val_loss: 0.5732\n",
      "Epoch 3/100\n",
      "\u001b[1m1109/1109\u001b[0m \u001b[32m━━━━━━━━━━━━━━━━━━━━\u001b[0m\u001b[37m\u001b[0m \u001b[1m7s\u001b[0m 6ms/step - accuracy: 0.7217 - loss: 0.7166 - val_accuracy: 0.8298 - val_loss: 0.5268\n",
      "Epoch 4/100\n",
      "\u001b[1m1109/1109\u001b[0m \u001b[32m━━━━━━━━━━━━━━━━━━━━\u001b[0m\u001b[37m\u001b[0m \u001b[1m7s\u001b[0m 6ms/step - accuracy: 0.7332 - loss: 0.6814 - val_accuracy: 0.8388 - val_loss: 0.4962\n",
      "Epoch 5/100\n",
      "\u001b[1m1109/1109\u001b[0m \u001b[32m━━━━━━━━━━━━━━━━━━━━\u001b[0m\u001b[37m\u001b[0m \u001b[1m6s\u001b[0m 6ms/step - accuracy: 0.7449 - loss: 0.6536 - val_accuracy: 0.8398 - val_loss: 0.4754\n",
      "Epoch 6/100\n",
      "\u001b[1m1109/1109\u001b[0m \u001b[32m━━━━━━━━━━━━━━━━━━━━\u001b[0m\u001b[37m\u001b[0m \u001b[1m6s\u001b[0m 6ms/step - accuracy: 0.7493 - loss: 0.6371 - val_accuracy: 0.8448 - val_loss: 0.4651\n",
      "Epoch 7/100\n",
      "\u001b[1m1109/1109\u001b[0m \u001b[32m━━━━━━━━━━━━━━━━━━━━\u001b[0m\u001b[37m\u001b[0m \u001b[1m7s\u001b[0m 6ms/step - accuracy: 0.7588 - loss: 0.6201 - val_accuracy: 0.8609 - val_loss: 0.4520\n",
      "Epoch 8/100\n",
      "\u001b[1m1109/1109\u001b[0m \u001b[32m━━━━━━━━━━━━━━━━━━━━\u001b[0m\u001b[37m\u001b[0m \u001b[1m6s\u001b[0m 6ms/step - accuracy: 0.7650 - loss: 0.6000 - val_accuracy: 0.8599 - val_loss: 0.4362\n",
      "Epoch 9/100\n",
      "\u001b[1m1109/1109\u001b[0m \u001b[32m━━━━━━━━━━━━━━━━━━━━\u001b[0m\u001b[37m\u001b[0m \u001b[1m6s\u001b[0m 5ms/step - accuracy: 0.7693 - loss: 0.5890 - val_accuracy: 0.8669 - val_loss: 0.4182\n",
      "Epoch 10/100\n",
      "\u001b[1m1109/1109\u001b[0m \u001b[32m━━━━━━━━━━━━━━━━━━━━\u001b[0m\u001b[37m\u001b[0m \u001b[1m6s\u001b[0m 5ms/step - accuracy: 0.7746 - loss: 0.5742 - val_accuracy: 0.8739 - val_loss: 0.4061\n",
      "Epoch 11/100\n",
      "\u001b[1m1109/1109\u001b[0m \u001b[32m━━━━━━━━━━━━━━━━━━━━\u001b[0m\u001b[37m\u001b[0m \u001b[1m6s\u001b[0m 5ms/step - accuracy: 0.7848 - loss: 0.5558 - val_accuracy: 0.8849 - val_loss: 0.3951\n",
      "Epoch 12/100\n",
      "\u001b[1m1109/1109\u001b[0m \u001b[32m━━━━━━━━━━━━━━━━━━━━\u001b[0m\u001b[37m\u001b[0m \u001b[1m6s\u001b[0m 5ms/step - accuracy: 0.7927 - loss: 0.5393 - val_accuracy: 0.8839 - val_loss: 0.3799\n",
      "Epoch 13/100\n",
      "\u001b[1m1109/1109\u001b[0m \u001b[32m━━━━━━━━━━━━━━━━━━━━\u001b[0m\u001b[37m\u001b[0m \u001b[1m6s\u001b[0m 5ms/step - accuracy: 0.7993 - loss: 0.5194 - val_accuracy: 0.8899 - val_loss: 0.3606\n",
      "Epoch 14/100\n",
      "\u001b[1m1109/1109\u001b[0m \u001b[32m━━━━━━━━━━━━━━━━━━━━\u001b[0m\u001b[37m\u001b[0m \u001b[1m6s\u001b[0m 5ms/step - accuracy: 0.8040 - loss: 0.5026 - val_accuracy: 0.8949 - val_loss: 0.3458\n",
      "Epoch 15/100\n",
      "\u001b[1m1109/1109\u001b[0m \u001b[32m━━━━━━━━━━━━━━━━━━━━\u001b[0m\u001b[37m\u001b[0m \u001b[1m6s\u001b[0m 5ms/step - accuracy: 0.8128 - loss: 0.4855 - val_accuracy: 0.9049 - val_loss: 0.3267\n",
      "Epoch 16/100\n",
      "\u001b[1m1109/1109\u001b[0m \u001b[32m━━━━━━━━━━━━━━━━━━━━\u001b[0m\u001b[37m\u001b[0m \u001b[1m6s\u001b[0m 5ms/step - accuracy: 0.8201 - loss: 0.4656 - val_accuracy: 0.9059 - val_loss: 0.3175\n",
      "Epoch 17/100\n",
      "\u001b[1m1109/1109\u001b[0m \u001b[32m━━━━━━━━━━━━━━━━━━━━\u001b[0m\u001b[37m\u001b[0m \u001b[1m6s\u001b[0m 5ms/step - accuracy: 0.8265 - loss: 0.4486 - val_accuracy: 0.9099 - val_loss: 0.3042\n",
      "Epoch 18/100\n",
      "\u001b[1m1109/1109\u001b[0m \u001b[32m━━━━━━━━━━━━━━━━━━━━\u001b[0m\u001b[37m\u001b[0m \u001b[1m6s\u001b[0m 5ms/step - accuracy: 0.8362 - loss: 0.4298 - val_accuracy: 0.9119 - val_loss: 0.2906\n",
      "Epoch 19/100\n",
      "\u001b[1m1109/1109\u001b[0m \u001b[32m━━━━━━━━━━━━━━━━━━━━\u001b[0m\u001b[37m\u001b[0m \u001b[1m6s\u001b[0m 5ms/step - accuracy: 0.8438 - loss: 0.4117 - val_accuracy: 0.9199 - val_loss: 0.2778\n",
      "Epoch 20/100\n",
      "\u001b[1m1109/1109\u001b[0m \u001b[32m━━━━━━━━━━━━━━━━━━━━\u001b[0m\u001b[37m\u001b[0m \u001b[1m6s\u001b[0m 5ms/step - accuracy: 0.8493 - loss: 0.3957 - val_accuracy: 0.9249 - val_loss: 0.2681\n",
      "Epoch 21/100\n",
      "\u001b[1m1109/1109\u001b[0m \u001b[32m━━━━━━━━━━━━━━━━━━━━\u001b[0m\u001b[37m\u001b[0m \u001b[1m6s\u001b[0m 5ms/step - accuracy: 0.8569 - loss: 0.3797 - val_accuracy: 0.9279 - val_loss: 0.2589\n",
      "Epoch 22/100\n",
      "\u001b[1m1109/1109\u001b[0m \u001b[32m━━━━━━━━━━━━━━━━━━━━\u001b[0m\u001b[37m\u001b[0m \u001b[1m6s\u001b[0m 6ms/step - accuracy: 0.8642 - loss: 0.3589 - val_accuracy: 0.9319 - val_loss: 0.2448\n",
      "Epoch 23/100\n",
      "\u001b[1m1109/1109\u001b[0m \u001b[32m━━━━━━━━━━━━━━━━━━━━\u001b[0m\u001b[37m\u001b[0m \u001b[1m7s\u001b[0m 6ms/step - accuracy: 0.8670 - loss: 0.3471 - val_accuracy: 0.9319 - val_loss: 0.2388\n",
      "Epoch 24/100\n",
      "\u001b[1m1109/1109\u001b[0m \u001b[32m━━━━━━━━━━━━━━━━━━━━\u001b[0m\u001b[37m\u001b[0m \u001b[1m6s\u001b[0m 6ms/step - accuracy: 0.8746 - loss: 0.3288 - val_accuracy: 0.9329 - val_loss: 0.2299\n",
      "Epoch 25/100\n",
      "\u001b[1m1109/1109\u001b[0m \u001b[32m━━━━━━━━━━━━━━━━━━━━\u001b[0m\u001b[37m\u001b[0m \u001b[1m6s\u001b[0m 5ms/step - accuracy: 0.8793 - loss: 0.3201 - val_accuracy: 0.9379 - val_loss: 0.2286\n",
      "Epoch 26/100\n",
      "\u001b[1m1109/1109\u001b[0m \u001b[32m━━━━━━━━━━━━━━━━━━━━\u001b[0m\u001b[37m\u001b[0m \u001b[1m6s\u001b[0m 5ms/step - accuracy: 0.8846 - loss: 0.3066 - val_accuracy: 0.9399 - val_loss: 0.2218\n",
      "Epoch 27/100\n",
      "\u001b[1m1109/1109\u001b[0m \u001b[32m━━━━━━━━━━━━━━━━━━━━\u001b[0m\u001b[37m\u001b[0m \u001b[1m6s\u001b[0m 5ms/step - accuracy: 0.8845 - loss: 0.2957 - val_accuracy: 0.9389 - val_loss: 0.2148\n",
      "Epoch 28/100\n",
      "\u001b[1m1109/1109\u001b[0m \u001b[32m━━━━━━━━━━━━━━━━━━━━\u001b[0m\u001b[37m\u001b[0m \u001b[1m6s\u001b[0m 5ms/step - accuracy: 0.8936 - loss: 0.2826 - val_accuracy: 0.9429 - val_loss: 0.2122\n",
      "Epoch 29/100\n",
      "\u001b[1m1109/1109\u001b[0m \u001b[32m━━━━━━━━━━━━━━━━━━━━\u001b[0m\u001b[37m\u001b[0m \u001b[1m6s\u001b[0m 5ms/step - accuracy: 0.8966 - loss: 0.2742 - val_accuracy: 0.9429 - val_loss: 0.2108\n",
      "Epoch 30/100\n",
      "\u001b[1m1109/1109\u001b[0m \u001b[32m━━━━━━━━━━━━━━━━━━━━\u001b[0m\u001b[37m\u001b[0m \u001b[1m6s\u001b[0m 6ms/step - accuracy: 0.9016 - loss: 0.2583 - val_accuracy: 0.9459 - val_loss: 0.2058\n",
      "Epoch 31/100\n",
      "\u001b[1m1109/1109\u001b[0m \u001b[32m━━━━━━━━━━━━━━━━━━━━\u001b[0m\u001b[37m\u001b[0m \u001b[1m7s\u001b[0m 6ms/step - accuracy: 0.9033 - loss: 0.2534 - val_accuracy: 0.9469 - val_loss: 0.2021\n",
      "Epoch 32/100\n",
      "\u001b[1m1109/1109\u001b[0m \u001b[32m━━━━━━━━━━━━━━━━━━━━\u001b[0m\u001b[37m\u001b[0m \u001b[1m7s\u001b[0m 6ms/step - accuracy: 0.9082 - loss: 0.2429 - val_accuracy: 0.9469 - val_loss: 0.2007\n",
      "Epoch 33/100\n",
      "\u001b[1m1109/1109\u001b[0m \u001b[32m━━━━━━━━━━━━━━━━━━━━\u001b[0m\u001b[37m\u001b[0m \u001b[1m6s\u001b[0m 5ms/step - accuracy: 0.9089 - loss: 0.2387 - val_accuracy: 0.9459 - val_loss: 0.2048\n",
      "Epoch 34/100\n",
      "\u001b[1m1109/1109\u001b[0m \u001b[32m━━━━━━━━━━━━━━━━━━━━\u001b[0m\u001b[37m\u001b[0m \u001b[1m6s\u001b[0m 5ms/step - accuracy: 0.9121 - loss: 0.2315 - val_accuracy: 0.9479 - val_loss: 0.2016\n",
      "Epoch 35/100\n",
      "\u001b[1m1109/1109\u001b[0m \u001b[32m━━━━━━━━━━━━━━━━━━━━\u001b[0m\u001b[37m\u001b[0m \u001b[1m6s\u001b[0m 6ms/step - accuracy: 0.9149 - loss: 0.2212 - val_accuracy: 0.9489 - val_loss: 0.1988\n",
      "Epoch 36/100\n",
      "\u001b[1m1109/1109\u001b[0m \u001b[32m━━━━━━━━━━━━━━━━━━━━\u001b[0m\u001b[37m\u001b[0m \u001b[1m6s\u001b[0m 5ms/step - accuracy: 0.9141 - loss: 0.2184 - val_accuracy: 0.9479 - val_loss: 0.1962\n",
      "Epoch 37/100\n",
      "\u001b[1m1109/1109\u001b[0m \u001b[32m━━━━━━━━━━━━━━━━━━━━\u001b[0m\u001b[37m\u001b[0m \u001b[1m7s\u001b[0m 6ms/step - accuracy: 0.9190 - loss: 0.2106 - val_accuracy: 0.9499 - val_loss: 0.1984\n",
      "Epoch 38/100\n",
      "\u001b[1m1109/1109\u001b[0m \u001b[32m━━━━━━━━━━━━━━━━━━━━\u001b[0m\u001b[37m\u001b[0m \u001b[1m6s\u001b[0m 6ms/step - accuracy: 0.9202 - loss: 0.2050 - val_accuracy: 0.9499 - val_loss: 0.1968\n",
      "Epoch 39/100\n",
      "\u001b[1m1109/1109\u001b[0m \u001b[32m━━━━━━━━━━━━━━━━━━━━\u001b[0m\u001b[37m\u001b[0m \u001b[1m6s\u001b[0m 6ms/step - accuracy: 0.9223 - loss: 0.1996 - val_accuracy: 0.9510 - val_loss: 0.2007\n",
      "Epoch 40/100\n",
      "\u001b[1m1109/1109\u001b[0m \u001b[32m━━━━━━━━━━━━━━━━━━━━\u001b[0m\u001b[37m\u001b[0m \u001b[1m6s\u001b[0m 6ms/step - accuracy: 0.9226 - loss: 0.1994 - val_accuracy: 0.9489 - val_loss: 0.1994\n",
      "Epoch 41/100\n",
      "\u001b[1m1109/1109\u001b[0m \u001b[32m━━━━━━━━━━━━━━━━━━━━\u001b[0m\u001b[37m\u001b[0m \u001b[1m6s\u001b[0m 5ms/step - accuracy: 0.9261 - loss: 0.1912 - val_accuracy: 0.9489 - val_loss: 0.1985\n",
      "Epoch 42/100\n",
      "\u001b[1m1109/1109\u001b[0m \u001b[32m━━━━━━━━━━━━━━━━━━━━\u001b[0m\u001b[37m\u001b[0m \u001b[1m6s\u001b[0m 5ms/step - accuracy: 0.9266 - loss: 0.1858 - val_accuracy: 0.9479 - val_loss: 0.2004\n",
      "Epoch 43/100\n",
      "\u001b[1m1109/1109\u001b[0m \u001b[32m━━━━━━━━━━━━━━━━━━━━\u001b[0m\u001b[37m\u001b[0m \u001b[1m7s\u001b[0m 6ms/step - accuracy: 0.9278 - loss: 0.1826 - val_accuracy: 0.9499 - val_loss: 0.2035\n",
      "Epoch 44/100\n",
      "\u001b[1m1109/1109\u001b[0m \u001b[32m━━━━━━━━━━━━━━━━━━━━\u001b[0m\u001b[37m\u001b[0m \u001b[1m7s\u001b[0m 6ms/step - accuracy: 0.9284 - loss: 0.1853 - val_accuracy: 0.9459 - val_loss: 0.1989\n",
      "Epoch 45/100\n",
      "\u001b[1m1109/1109\u001b[0m \u001b[32m━━━━━━━━━━━━━━━━━━━━\u001b[0m\u001b[37m\u001b[0m \u001b[1m6s\u001b[0m 5ms/step - accuracy: 0.9292 - loss: 0.1773 - val_accuracy: 0.9510 - val_loss: 0.2000\n",
      "Epoch 46/100\n",
      "\u001b[1m1109/1109\u001b[0m \u001b[32m━━━━━━━━━━━━━━━━━━━━\u001b[0m\u001b[37m\u001b[0m \u001b[1m6s\u001b[0m 5ms/step - accuracy: 0.9294 - loss: 0.1766 - val_accuracy: 0.9520 - val_loss: 0.1987\n",
      "Epoch 47/100\n",
      "\u001b[1m1109/1109\u001b[0m \u001b[32m━━━━━━━━━━━━━━━━━━━━\u001b[0m\u001b[37m\u001b[0m \u001b[1m6s\u001b[0m 5ms/step - accuracy: 0.9321 - loss: 0.1712 - val_accuracy: 0.9489 - val_loss: 0.2006\n",
      "Epoch 48/100\n",
      "\u001b[1m1109/1109\u001b[0m \u001b[32m━━━━━━━━━━━━━━━━━━━━\u001b[0m\u001b[37m\u001b[0m \u001b[1m6s\u001b[0m 5ms/step - accuracy: 0.9321 - loss: 0.1668 - val_accuracy: 0.9499 - val_loss: 0.1996\n",
      "Epoch 49/100\n",
      "\u001b[1m1109/1109\u001b[0m \u001b[32m━━━━━━━━━━━━━━━━━━━━\u001b[0m\u001b[37m\u001b[0m \u001b[1m6s\u001b[0m 5ms/step - accuracy: 0.9352 - loss: 0.1657 - val_accuracy: 0.9520 - val_loss: 0.1990\n",
      "Epoch 50/100\n",
      "\u001b[1m1109/1109\u001b[0m \u001b[32m━━━━━━━━━━━━━━━━━━━━\u001b[0m\u001b[37m\u001b[0m \u001b[1m6s\u001b[0m 5ms/step - accuracy: 0.9354 - loss: 0.1613 - val_accuracy: 0.9510 - val_loss: 0.1981\n",
      "Epoch 51/100\n",
      "\u001b[1m1109/1109\u001b[0m \u001b[32m━━━━━━━━━━━━━━━━━━━━\u001b[0m\u001b[37m\u001b[0m \u001b[1m6s\u001b[0m 5ms/step - accuracy: 0.9347 - loss: 0.1626 - val_accuracy: 0.9560 - val_loss: 0.2011\n",
      "Epoch 52/100\n",
      "\u001b[1m1109/1109\u001b[0m \u001b[32m━━━━━━━━━━━━━━━━━━━━\u001b[0m\u001b[37m\u001b[0m \u001b[1m7s\u001b[0m 6ms/step - accuracy: 0.9371 - loss: 0.1581 - val_accuracy: 0.9550 - val_loss: 0.1977\n",
      "Epoch 53/100\n",
      "\u001b[1m1109/1109\u001b[0m \u001b[32m━━━━━━━━━━━━━━━━━━━━\u001b[0m\u001b[37m\u001b[0m \u001b[1m6s\u001b[0m 6ms/step - accuracy: 0.9376 - loss: 0.1531 - val_accuracy: 0.9560 - val_loss: 0.1986\n",
      "Epoch 54/100\n",
      "\u001b[1m1109/1109\u001b[0m \u001b[32m━━━━━━━━━━━━━━━━━━━━\u001b[0m\u001b[37m\u001b[0m \u001b[1m7s\u001b[0m 6ms/step - accuracy: 0.9350 - loss: 0.1570 - val_accuracy: 0.9590 - val_loss: 0.1975\n",
      "Epoch 55/100\n",
      "\u001b[1m1109/1109\u001b[0m \u001b[32m━━━━━━━━━━━━━━━━━━━━\u001b[0m\u001b[37m\u001b[0m \u001b[1m6s\u001b[0m 6ms/step - accuracy: 0.9376 - loss: 0.1521 - val_accuracy: 0.9590 - val_loss: 0.1993\n",
      "Epoch 56/100\n",
      "\u001b[1m1109/1109\u001b[0m \u001b[32m━━━━━━━━━━━━━━━━━━━━\u001b[0m\u001b[37m\u001b[0m \u001b[1m6s\u001b[0m 5ms/step - accuracy: 0.9388 - loss: 0.1511 - val_accuracy: 0.9550 - val_loss: 0.2002\n",
      "Epoch 57/100\n",
      "\u001b[1m1109/1109\u001b[0m \u001b[32m━━━━━━━━━━━━━━━━━━━━\u001b[0m\u001b[37m\u001b[0m \u001b[1m6s\u001b[0m 5ms/step - accuracy: 0.9391 - loss: 0.1446 - val_accuracy: 0.9530 - val_loss: 0.2006\n",
      "Epoch 58/100\n",
      "\u001b[1m1109/1109\u001b[0m \u001b[32m━━━━━━━━━━━━━━━━━━━━\u001b[0m\u001b[37m\u001b[0m \u001b[1m7s\u001b[0m 6ms/step - accuracy: 0.9403 - loss: 0.1452 - val_accuracy: 0.9510 - val_loss: 0.1983\n",
      "Epoch 59/100\n",
      "\u001b[1m1109/1109\u001b[0m \u001b[32m━━━━━━━━━━━━━━━━━━━━\u001b[0m\u001b[37m\u001b[0m \u001b[1m6s\u001b[0m 6ms/step - accuracy: 0.9421 - loss: 0.1449 - val_accuracy: 0.9520 - val_loss: 0.1978\n",
      "Epoch 60/100\n",
      "\u001b[1m1109/1109\u001b[0m \u001b[32m━━━━━━━━━━━━━━━━━━━━\u001b[0m\u001b[37m\u001b[0m \u001b[1m6s\u001b[0m 5ms/step - accuracy: 0.9415 - loss: 0.1446 - val_accuracy: 0.9530 - val_loss: 0.1988\n",
      "Epoch 61/100\n",
      "\u001b[1m1109/1109\u001b[0m \u001b[32m━━━━━━━━━━━━━━━━━━━━\u001b[0m\u001b[37m\u001b[0m \u001b[1m6s\u001b[0m 5ms/step - accuracy: 0.9415 - loss: 0.1423 - val_accuracy: 0.9530 - val_loss: 0.1961\n",
      "Epoch 62/100\n",
      "\u001b[1m1109/1109\u001b[0m \u001b[32m━━━━━━━━━━━━━━━━━━━━\u001b[0m\u001b[37m\u001b[0m \u001b[1m6s\u001b[0m 6ms/step - accuracy: 0.9431 - loss: 0.1395 - val_accuracy: 0.9550 - val_loss: 0.1926\n",
      "Epoch 63/100\n",
      "\u001b[1m1109/1109\u001b[0m \u001b[32m━━━━━━━━━━━━━━━━━━━━\u001b[0m\u001b[37m\u001b[0m \u001b[1m7s\u001b[0m 6ms/step - accuracy: 0.9435 - loss: 0.1385 - val_accuracy: 0.9499 - val_loss: 0.1956\n",
      "Epoch 64/100\n",
      "\u001b[1m1109/1109\u001b[0m \u001b[32m━━━━━━━━━━━━━━━━━━━━\u001b[0m\u001b[37m\u001b[0m \u001b[1m6s\u001b[0m 6ms/step - accuracy: 0.9451 - loss: 0.1338 - val_accuracy: 0.9510 - val_loss: 0.1936\n",
      "Epoch 65/100\n",
      "\u001b[1m1109/1109\u001b[0m \u001b[32m━━━━━━━━━━━━━━━━━━━━\u001b[0m\u001b[37m\u001b[0m \u001b[1m7s\u001b[0m 6ms/step - accuracy: 0.9431 - loss: 0.1383 - val_accuracy: 0.9540 - val_loss: 0.1958\n",
      "Epoch 66/100\n",
      "\u001b[1m1109/1109\u001b[0m \u001b[32m━━━━━━━━━━━━━━━━━━━━\u001b[0m\u001b[37m\u001b[0m \u001b[1m6s\u001b[0m 6ms/step - accuracy: 0.9456 - loss: 0.1345 - val_accuracy: 0.9550 - val_loss: 0.1897\n",
      "Epoch 67/100\n",
      "\u001b[1m1109/1109\u001b[0m \u001b[32m━━━━━━━━━━━━━━━━━━━━\u001b[0m\u001b[37m\u001b[0m \u001b[1m6s\u001b[0m 5ms/step - accuracy: 0.9450 - loss: 0.1331 - val_accuracy: 0.9520 - val_loss: 0.1942\n",
      "Epoch 68/100\n",
      "\u001b[1m1109/1109\u001b[0m \u001b[32m━━━━━━━━━━━━━━━━━━━━\u001b[0m\u001b[37m\u001b[0m \u001b[1m6s\u001b[0m 6ms/step - accuracy: 0.9473 - loss: 0.1277 - val_accuracy: 0.9550 - val_loss: 0.1959\n",
      "Epoch 69/100\n",
      "\u001b[1m1109/1109\u001b[0m \u001b[32m━━━━━━━━━━━━━━━━━━━━\u001b[0m\u001b[37m\u001b[0m \u001b[1m6s\u001b[0m 5ms/step - accuracy: 0.9446 - loss: 0.1330 - val_accuracy: 0.9550 - val_loss: 0.1931\n",
      "Epoch 70/100\n",
      "\u001b[1m1109/1109\u001b[0m \u001b[32m━━━━━━━━━━━━━━━━━━━━\u001b[0m\u001b[37m\u001b[0m \u001b[1m6s\u001b[0m 5ms/step - accuracy: 0.9461 - loss: 0.1303 - val_accuracy: 0.9540 - val_loss: 0.1958\n",
      "Epoch 71/100\n",
      "\u001b[1m1109/1109\u001b[0m \u001b[32m━━━━━━━━━━━━━━━━━━━━\u001b[0m\u001b[37m\u001b[0m \u001b[1m6s\u001b[0m 5ms/step - accuracy: 0.9457 - loss: 0.1300 - val_accuracy: 0.9570 - val_loss: 0.1982\n",
      "Epoch 72/100\n",
      "\u001b[1m1109/1109\u001b[0m \u001b[32m━━━━━━━━━━━━━━━━━━━━\u001b[0m\u001b[37m\u001b[0m \u001b[1m6s\u001b[0m 5ms/step - accuracy: 0.9487 - loss: 0.1265 - val_accuracy: 0.9550 - val_loss: 0.1988\n",
      "Epoch 73/100\n",
      "\u001b[1m1109/1109\u001b[0m \u001b[32m━━━━━━━━━━━━━━━━━━━━\u001b[0m\u001b[37m\u001b[0m \u001b[1m7s\u001b[0m 6ms/step - accuracy: 0.9484 - loss: 0.1247 - val_accuracy: 0.9550 - val_loss: 0.1965\n",
      "Epoch 74/100\n",
      "\u001b[1m1109/1109\u001b[0m \u001b[32m━━━━━━━━━━━━━━━━━━━━\u001b[0m\u001b[37m\u001b[0m \u001b[1m7s\u001b[0m 6ms/step - accuracy: 0.9480 - loss: 0.1273 - val_accuracy: 0.9570 - val_loss: 0.1987\n",
      "Epoch 75/100\n",
      "\u001b[1m1109/1109\u001b[0m \u001b[32m━━━━━━━━━━━━━━━━━━━━\u001b[0m\u001b[37m\u001b[0m \u001b[1m6s\u001b[0m 6ms/step - accuracy: 0.9480 - loss: 0.1247 - val_accuracy: 0.9570 - val_loss: 0.1980\n",
      "Epoch 76/100\n",
      "\u001b[1m1109/1109\u001b[0m \u001b[32m━━━━━━━━━━━━━━━━━━━━\u001b[0m\u001b[37m\u001b[0m \u001b[1m7s\u001b[0m 6ms/step - accuracy: 0.9482 - loss: 0.1249 - val_accuracy: 0.9550 - val_loss: 0.2019\n",
      "Epoch 77/100\n",
      "\u001b[1m1109/1109\u001b[0m \u001b[32m━━━━━━━━━━━━━━━━━━━━\u001b[0m\u001b[37m\u001b[0m \u001b[1m6s\u001b[0m 5ms/step - accuracy: 0.9471 - loss: 0.1259 - val_accuracy: 0.9540 - val_loss: 0.2029\n",
      "Epoch 78/100\n",
      "\u001b[1m1109/1109\u001b[0m \u001b[32m━━━━━━━━━━━━━━━━━━━━\u001b[0m\u001b[37m\u001b[0m \u001b[1m6s\u001b[0m 5ms/step - accuracy: 0.9494 - loss: 0.1230 - val_accuracy: 0.9600 - val_loss: 0.2031\n",
      "Epoch 79/100\n",
      "\u001b[1m1109/1109\u001b[0m \u001b[32m━━━━━━━━━━━━━━━━━━━━\u001b[0m\u001b[37m\u001b[0m \u001b[1m6s\u001b[0m 5ms/step - accuracy: 0.9481 - loss: 0.1241 - val_accuracy: 0.9550 - val_loss: 0.2050\n",
      "Epoch 80/100\n",
      "\u001b[1m1109/1109\u001b[0m \u001b[32m━━━━━━━━━━━━━━━━━━━━\u001b[0m\u001b[37m\u001b[0m \u001b[1m6s\u001b[0m 5ms/step - accuracy: 0.9493 - loss: 0.1207 - val_accuracy: 0.9580 - val_loss: 0.2054\n",
      "Epoch 81/100\n",
      "\u001b[1m1109/1109\u001b[0m \u001b[32m━━━━━━━━━━━━━━━━━━━━\u001b[0m\u001b[37m\u001b[0m \u001b[1m6s\u001b[0m 6ms/step - accuracy: 0.9510 - loss: 0.1194 - val_accuracy: 0.9570 - val_loss: 0.2115\n",
      "Epoch 82/100\n",
      "\u001b[1m1109/1109\u001b[0m \u001b[32m━━━━━━━━━━━━━━━━━━━━\u001b[0m\u001b[37m\u001b[0m \u001b[1m6s\u001b[0m 5ms/step - accuracy: 0.9498 - loss: 0.1201 - val_accuracy: 0.9530 - val_loss: 0.2114\n",
      "Epoch 83/100\n",
      "\u001b[1m1109/1109\u001b[0m \u001b[32m━━━━━━━━━━━━━━━━━━━━\u001b[0m\u001b[37m\u001b[0m \u001b[1m6s\u001b[0m 5ms/step - accuracy: 0.9468 - loss: 0.1234 - val_accuracy: 0.9540 - val_loss: 0.2114\n",
      "Epoch 84/100\n",
      "\u001b[1m1109/1109\u001b[0m \u001b[32m━━━━━━━━━━━━━━━━━━━━\u001b[0m\u001b[37m\u001b[0m \u001b[1m6s\u001b[0m 5ms/step - accuracy: 0.9502 - loss: 0.1191 - val_accuracy: 0.9550 - val_loss: 0.2111\n",
      "Epoch 85/100\n",
      "\u001b[1m1109/1109\u001b[0m \u001b[32m━━━━━━━━━━━━━━━━━━━━\u001b[0m\u001b[37m\u001b[0m \u001b[1m6s\u001b[0m 5ms/step - accuracy: 0.9492 - loss: 0.1179 - val_accuracy: 0.9550 - val_loss: 0.2080\n",
      "Epoch 86/100\n",
      "\u001b[1m1109/1109\u001b[0m \u001b[32m━━━━━━━━━━━━━━━━━━━━\u001b[0m\u001b[37m\u001b[0m \u001b[1m6s\u001b[0m 5ms/step - accuracy: 0.9515 - loss: 0.1153 - val_accuracy: 0.9530 - val_loss: 0.2104\n",
      "Epoch 87/100\n",
      "\u001b[1m1109/1109\u001b[0m \u001b[32m━━━━━━━━━━━━━━━━━━━━\u001b[0m\u001b[37m\u001b[0m \u001b[1m6s\u001b[0m 5ms/step - accuracy: 0.9505 - loss: 0.1178 - val_accuracy: 0.9550 - val_loss: 0.2076\n",
      "Epoch 88/100\n",
      "\u001b[1m1109/1109\u001b[0m \u001b[32m━━━━━━━━━━━━━━━━━━━━\u001b[0m\u001b[37m\u001b[0m \u001b[1m6s\u001b[0m 5ms/step - accuracy: 0.9518 - loss: 0.1112 - val_accuracy: 0.9530 - val_loss: 0.2103\n",
      "Epoch 89/100\n",
      "\u001b[1m1109/1109\u001b[0m \u001b[32m━━━━━━━━━━━━━━━━━━━━\u001b[0m\u001b[37m\u001b[0m \u001b[1m6s\u001b[0m 5ms/step - accuracy: 0.9507 - loss: 0.1149 - val_accuracy: 0.9550 - val_loss: 0.2142\n",
      "Epoch 90/100\n",
      "\u001b[1m1109/1109\u001b[0m \u001b[32m━━━━━━━━━━━━━━━━━━━━\u001b[0m\u001b[37m\u001b[0m \u001b[1m6s\u001b[0m 5ms/step - accuracy: 0.9523 - loss: 0.1151 - val_accuracy: 0.9540 - val_loss: 0.2136\n",
      "Epoch 91/100\n",
      "\u001b[1m1109/1109\u001b[0m \u001b[32m━━━━━━━━━━━━━━━━━━━━\u001b[0m\u001b[37m\u001b[0m \u001b[1m6s\u001b[0m 5ms/step - accuracy: 0.9535 - loss: 0.1103 - val_accuracy: 0.9530 - val_loss: 0.2118\n",
      "Epoch 92/100\n",
      "\u001b[1m1109/1109\u001b[0m \u001b[32m━━━━━━━━━━━━━━━━━━━━\u001b[0m\u001b[37m\u001b[0m \u001b[1m6s\u001b[0m 6ms/step - accuracy: 0.9532 - loss: 0.1101 - val_accuracy: 0.9530 - val_loss: 0.2126\n",
      "Epoch 93/100\n",
      "\u001b[1m1109/1109\u001b[0m \u001b[32m━━━━━━━━━━━━━━━━━━━━\u001b[0m\u001b[37m\u001b[0m \u001b[1m6s\u001b[0m 5ms/step - accuracy: 0.9520 - loss: 0.1124 - val_accuracy: 0.9540 - val_loss: 0.2166\n",
      "Epoch 94/100\n",
      "\u001b[1m1109/1109\u001b[0m \u001b[32m━━━━━━━━━━━━━━━━━━━━\u001b[0m\u001b[37m\u001b[0m \u001b[1m6s\u001b[0m 6ms/step - accuracy: 0.9510 - loss: 0.1143 - val_accuracy: 0.9540 - val_loss: 0.2118\n",
      "Epoch 95/100\n",
      "\u001b[1m1109/1109\u001b[0m \u001b[32m━━━━━━━━━━━━━━━━━━━━\u001b[0m\u001b[37m\u001b[0m \u001b[1m7s\u001b[0m 6ms/step - accuracy: 0.9516 - loss: 0.1127 - val_accuracy: 0.9550 - val_loss: 0.2129\n",
      "Epoch 96/100\n",
      "\u001b[1m1109/1109\u001b[0m \u001b[32m━━━━━━━━━━━━━━━━━━━━\u001b[0m\u001b[37m\u001b[0m \u001b[1m7s\u001b[0m 6ms/step - accuracy: 0.9531 - loss: 0.1091 - val_accuracy: 0.9560 - val_loss: 0.2149\n",
      "Epoch 97/100\n",
      "\u001b[1m1109/1109\u001b[0m \u001b[32m━━━━━━━━━━━━━━━━━━━━\u001b[0m\u001b[37m\u001b[0m \u001b[1m6s\u001b[0m 5ms/step - accuracy: 0.9536 - loss: 0.1117 - val_accuracy: 0.9570 - val_loss: 0.2106\n",
      "Epoch 98/100\n",
      "\u001b[1m1109/1109\u001b[0m \u001b[32m━━━━━━━━━━━━━━━━━━━━\u001b[0m\u001b[37m\u001b[0m \u001b[1m6s\u001b[0m 5ms/step - accuracy: 0.9532 - loss: 0.1098 - val_accuracy: 0.9570 - val_loss: 0.2099\n",
      "Epoch 99/100\n",
      "\u001b[1m1109/1109\u001b[0m \u001b[32m━━━━━━━━━━━━━━━━━━━━\u001b[0m\u001b[37m\u001b[0m \u001b[1m6s\u001b[0m 6ms/step - accuracy: 0.9542 - loss: 0.1069 - val_accuracy: 0.9560 - val_loss: 0.2115\n",
      "Epoch 100/100\n",
      "\u001b[1m1109/1109\u001b[0m \u001b[32m━━━━━━━━━━━━━━━━━━━━\u001b[0m\u001b[37m\u001b[0m \u001b[1m6s\u001b[0m 5ms/step - accuracy: 0.9525 - loss: 0.1115 - val_accuracy: 0.9580 - val_loss: 0.2101\n"
     ]
    }
   ],
   "source": [
    "history = lstm_model.fit(\n",
    "    x_train_lstm, y_train,\n",
    "    validation_data=(x_valid_lstm, y_valid),\n",
    "    epochs=100,    \n",
    "    batch_size=64,\n",
    ")"
   ]
  },
  {
   "cell_type": "code",
   "execution_count": 25,
   "id": "647e4f72",
   "metadata": {
    "execution": {
     "iopub.execute_input": "2025-10-09T19:15:42.518981Z",
     "iopub.status.busy": "2025-10-09T19:15:42.518618Z",
     "iopub.status.idle": "2025-10-09T19:15:42.876057Z",
     "shell.execute_reply": "2025-10-09T19:15:42.875129Z"
    },
    "papermill": {
     "duration": 0.917115,
     "end_time": "2025-10-09T19:15:42.877388",
     "exception": false,
     "start_time": "2025-10-09T19:15:41.960273",
     "status": "completed"
    },
    "tags": []
   },
   "outputs": [
    {
     "data": {
      "image/png": "[encoded data removed]",
      "text/plain": [
       "<Figure size 640x480 with 1 Axes>"
      ]
     },
     "metadata": {},
     "output_type": "display_data"
    },
    {
     "data": {
      "image/png": "[encoded data removed]",
      "text/plain": [
       "<Figure size 640x480 with 1 Axes>"
      ]
     },
     "metadata": {},
     "output_type": "display_data"
    }
   ],
   "source": [
    "plt.plot(history.history['accuracy'], label='train_acc')\n",
    "plt.plot(history.history['val_accuracy'], label='val_acc')\n",
    "plt.legend()\n",
    "plt.show()\n",
    "\n",
    "plt.plot(history.history['loss'], label='train_loss')\n",
    "plt.plot(history.history['val_loss'], label='val_loss')\n",
    "plt.legend()\n",
    "plt.show()"
   ]
  },
  {
   "cell_type": "code",
   "execution_count": 26,
   "id": "b88e2bda",
   "metadata": {
    "execution": {
     "iopub.execute_input": "2025-10-09T19:15:44.048662Z",
     "iopub.status.busy": "2025-10-09T19:15:44.048369Z",
     "iopub.status.idle": "2025-10-09T19:15:44.557185Z",
     "shell.execute_reply": "2025-10-09T19:15:44.556276Z"
    },
    "papermill": {
     "duration": 1.059771,
     "end_time": "2025-10-09T19:15:44.558581",
     "exception": false,
     "start_time": "2025-10-09T19:15:43.498810",
     "status": "completed"
    },
    "tags": []
   },
   "outputs": [
    {
     "name": "stdout",
     "output_type": "stream",
     "text": [
      "\u001b[1m32/32\u001b[0m \u001b[32m━━━━━━━━━━━━━━━━━━━━\u001b[0m\u001b[37m\u001b[0m \u001b[1m0s\u001b[0m 7ms/step\n",
      "              precision    recall  f1-score   support\n",
      "\n",
      "  Irrelevant       0.96      0.95      0.96       171\n",
      "    Negative       0.98      0.97      0.98       266\n",
      "     Neutral       0.97      0.94      0.96       285\n",
      "    Positive       0.92      0.97      0.95       277\n",
      "\n",
      "    accuracy                           0.96       999\n",
      "   macro avg       0.96      0.96      0.96       999\n",
      "weighted avg       0.96      0.96      0.96       999\n",
      "\n"
     ]
    }
   ],
   "source": [
    "y_pred = lstm_model.predict(x_valid_lstm)\n",
    "y_pred_classes = np.argmax(y_pred, axis=1)\n",
    "\n",
    "print(classification_report(y_valid, y_pred_classes, target_names=label_encoder.classes_))"
   ]
  },
  {
   "cell_type": "code",
   "execution_count": 27,
   "id": "4b9280d7",
   "metadata": {
    "execution": {
     "iopub.execute_input": "2025-10-09T19:15:45.745383Z",
     "iopub.status.busy": "2025-10-09T19:15:45.744644Z",
     "iopub.status.idle": "2025-10-09T19:15:45.964282Z",
     "shell.execute_reply": "2025-10-09T19:15:45.963561Z"
    },
    "papermill": {
     "duration": 0.764897,
     "end_time": "2025-10-09T19:15:45.965522",
     "exception": false,
     "start_time": "2025-10-09T19:15:45.200625",
     "status": "completed"
    },
    "tags": []
   },
   "outputs": [
    {
     "data": {
      "image/png": "[encoded data removed]",
      "text/plain": [
       "<Figure size 800x600 with 2 Axes>"
      ]
     },
     "metadata": {},
     "output_type": "display_data"
    }
   ],
   "source": [
    "conf_matrix = confusion_matrix(y_valid, y_pred_classes)\n",
    "plt.figure(figsize=(8,6))\n",
    "sns.heatmap(\n",
    "    conf_matrix,\n",
    "    annot=True,\n",
    "    fmt='d',\n",
    "    cmap='Blues',\n",
    "    xticklabels=label_encoder.classes_,\n",
    "    yticklabels=label_encoder.classes_\n",
    ")\n",
    "plt.xlabel('Predicted')\n",
    "plt.ylabel('True')\n",
    "plt.title('Confusion Matrix')\n",
    "plt.show()"
   ]
  },
  {
   "cell_type": "code",
   "execution_count": 28,
   "id": "ed931c2c",
   "metadata": {
    "execution": {
     "iopub.execute_input": "2025-10-09T19:15:47.130350Z",
     "iopub.status.busy": "2025-10-09T19:15:47.130054Z",
     "iopub.status.idle": "2025-10-09T19:15:47.242073Z",
     "shell.execute_reply": "2025-10-09T19:15:47.241146Z"
    },
    "papermill": {
     "duration": 0.656063,
     "end_time": "2025-10-09T19:15:47.243311",
     "exception": true,
     "start_time": "2025-10-09T19:15:46.587248",
     "status": "failed"
    },
    "tags": []
   },
   "outputs": [
    {
     "ename": "NameError",
     "evalue": "name 'indices' is not defined",
     "output_type": "error",
     "traceback": [
      "\u001b[0;31m---------------------------------------------------------------------------\u001b[0m",
      "\u001b[0;31mNameError\u001b[0m                                 Traceback (most recent call last)",
      "\u001b[0;32m/tmp/ipykernel_19/1101647438.py\u001b[0m in \u001b[0;36m<cell line: 0>\u001b[0;34m()\u001b[0m\n\u001b[1;32m      5\u001b[0m \u001b[0;34m\u001b[0m\u001b[0m\n\u001b[1;32m      6\u001b[0m sample_df = pd.DataFrame({\n\u001b[0;32m----> 7\u001b[0;31m     \u001b[0;34m'True Label'\u001b[0m\u001b[0;34m:\u001b[0m \u001b[0;34m[\u001b[0m\u001b[0mtrue_labels\u001b[0m\u001b[0;34m[\u001b[0m\u001b[0mi\u001b[0m\u001b[0;34m]\u001b[0m \u001b[0;32mfor\u001b[0m \u001b[0mi\u001b[0m \u001b[0;32min\u001b[0m \u001b[0mindices\u001b[0m\u001b[0;34m]\u001b[0m\u001b[0;34m,\u001b[0m\u001b[0;34m\u001b[0m\u001b[0;34m\u001b[0m\u001b[0m\n\u001b[0m\u001b[1;32m      8\u001b[0m     \u001b[0;34m'Predicted Label'\u001b[0m\u001b[0;34m:\u001b[0m \u001b[0;34m[\u001b[0m\u001b[0mpred_labels\u001b[0m\u001b[0;34m[\u001b[0m\u001b[0mi\u001b[0m\u001b[0;34m]\u001b[0m \u001b[0;32mfor\u001b[0m \u001b[0mi\u001b[0m \u001b[0;32min\u001b[0m \u001b[0mindices\u001b[0m\u001b[0;34m]\u001b[0m\u001b[0;34m\u001b[0m\u001b[0;34m\u001b[0m\u001b[0m\n\u001b[1;32m      9\u001b[0m })\n",
      "\u001b[0;31mNameError\u001b[0m: name 'indices' is not defined"
     ]
    }
   ],
   "source": [
    "true_labels = label_encoder.inverse_transform(y_valid)\n",
    "pred_labels = label_encoder.inverse_transform(y_pred_classes)\n",
    "\n",
    "num_samples = 10  \n",
    "\n",
    "sample_df = pd.DataFrame({\n",
    "    'True Label': [true_labels[i] for i in indices],\n",
    "    'Predicted Label': [pred_labels[i] for i in indices]\n",
    "})\n",
    "\n",
    "print(sample_df)"
   ]
  },
  {
   "cell_type": "code",
   "execution_count": null,
   "id": "9f5a5a39",
   "metadata": {
    "execution": {
     "iopub.execute_input": "2025-10-09T18:49:16.665194Z",
     "iopub.status.busy": "2025-10-09T18:49:16.664555Z",
     "iopub.status.idle": "2025-10-09T18:49:16.668460Z",
     "shell.execute_reply": "2025-10-09T18:49:16.667786Z",
     "shell.execute_reply.started": "2025-10-09T18:49:16.665168Z"
    },
    "papermill": {
     "duration": null,
     "end_time": null,
     "exception": null,
     "start_time": null,
     "status": "pending"
    },
    "tags": []
   },
   "outputs": [],
   "source": [
    "test_list=[ \"I really loved this movie\" #Positive \n",
    "           ,\"This was the worst experience I’ve ever had.\"#Negative\n",
    "           ,\"The meeting is scheduled for tomorrow .\"#Neutral\n",
    "           ,\"The sky is blue and the grass is green.\"#Irrelevant\n",
    "          ]"
   ]
  },
  {
   "cell_type": "code",
   "execution_count": null,
   "id": "3a97ff83",
   "metadata": {
    "execution": {
     "iopub.execute_input": "2025-10-09T18:49:17.117388Z",
     "iopub.status.busy": "2025-10-09T18:49:17.117125Z",
     "iopub.status.idle": "2025-10-09T18:49:17.122401Z",
     "shell.execute_reply": "2025-10-09T18:49:17.121776Z",
     "shell.execute_reply.started": "2025-10-09T18:49:17.117366Z"
    },
    "papermill": {
     "duration": null,
     "end_time": null,
     "exception": null,
     "start_time": null,
     "status": "pending"
    },
    "tags": []
   },
   "outputs": [],
   "source": [
    "x_input = tfidf.transform(test_list).toarray()\n",
    "x_input = np.expand_dims(x_input, axis=1)"
   ]
  },
  {
   "cell_type": "code",
   "execution_count": null,
   "id": "997048bc",
   "metadata": {
    "execution": {
     "iopub.execute_input": "2025-10-09T18:49:17.423649Z",
     "iopub.status.busy": "2025-10-09T18:49:17.423390Z",
     "iopub.status.idle": "2025-10-09T18:49:17.503291Z",
     "shell.execute_reply": "2025-10-09T18:49:17.502634Z",
     "shell.execute_reply.started": "2025-10-09T18:49:17.423630Z"
    },
    "papermill": {
     "duration": null,
     "end_time": null,
     "exception": null,
     "start_time": null,
     "status": "pending"
    },
    "tags": []
   },
   "outputs": [],
   "source": [
    "y_pred_probs = lstm_model.predict(x_input)\n",
    "y_pred_classes = np.argmax(y_pred_probs, axis=1)\n",
    "predicted_labels = label_encoder.inverse_transform(y_pred_classes)\n",
    "\n",
    "print(predicted_labels)"
   ]
  },
  {
   "cell_type": "code",
   "execution_count": null,
   "id": "58012653",
   "metadata": {
    "papermill": {
     "duration": null,
     "end_time": null,
     "exception": null,
     "start_time": null,
     "status": "pending"
    },
    "tags": []
   },
   "outputs": [],
   "source": []
  }
 ],
 "metadata": {
  "kaggle": {
   "accelerator": "nvidiaTeslaT4",
   "dataSources": [
    {
     "datasetId": 1520310,
     "sourceId": 2510329,
     "sourceType": "datasetVersion"
    }
   ],
   "dockerImageVersionId": 31089,
   "isGpuEnabled": true,
   "isInternetEnabled": true,
   "language": "python",
   "sourceType": "notebook"
  },
  "kernelspec": {
   "display_name": "Python 3",
   "language": "python",
   "name": "python3"
  },
  "language_info": {
   "codemirror_mode": {
    "name": "ipython",
    "version": 3
   },
   "file_extension": ".py",
   "mimetype": "text/x-python",
   "name": "python",
   "nbconvert_exporter": "python",
   "pygments_lexer": "ipython3",
   "version": "3.11.13"
  },
  "papermill": {
   "default_parameters": {},
   "duration": 684.770926,
   "end_time": "2025-10-09T19:15:51.191297",
   "environment_variables": {},
   "exception": true,
   "input_path": "__notebook__.ipynb",
   "output_path": "__notebook__.ipynb",
   "parameters": {},
   "start_time": "2025-10-09T19:04:26.420371",
   "version": "2.6.0"
  }
 },
 "nbformat": 4,
 "nbformat_minor": 5
}
